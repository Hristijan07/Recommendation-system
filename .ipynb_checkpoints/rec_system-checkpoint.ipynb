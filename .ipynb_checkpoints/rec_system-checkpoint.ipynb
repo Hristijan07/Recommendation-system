{
 "cells": [
  {
   "cell_type": "markdown",
   "metadata": {},
   "source": [
    "__Recommendation system__\n",
    "========"
   ]
  },
  {
   "cell_type": "markdown",
   "metadata": {},
   "source": [
    "## Reading ratings"
   ]
  },
  {
   "cell_type": "code",
   "execution_count": 1,
   "metadata": {},
   "outputs": [],
   "source": [
    "import pandas as pd\n",
    "import numpy as np\n",
    "\n",
    "class UserItemData:\n",
    "    def __init__(self, path, start_date=None, end_date=None, min_ratings=0):\n",
    "        #defining the variables in the constructor\n",
    "        self.path = path\n",
    "        self.start_date = start_date\n",
    "        self.end_date = end_date\n",
    "        self.min_ratings = min_ratings\n",
    "        self.rating_num = 0\n",
    "        \n",
    "        #reading the data with pandas\n",
    "        self.data = pd.read_csv(self.path, sep='\\t')\n",
    "        \n",
    "        if self.start_date is not None :\n",
    "            self.data = self.date_from()\n",
    "        if self.end_date is not None:\n",
    "            self.data = self.date_to()\n",
    "        \n",
    "        #making our user x movies matrix \n",
    "        self.data = self.data.pivot(index='userID', columns='movieID', values='rating')\n",
    "        \n",
    "        #delete the movies with lower ratings than the min_rating\n",
    "        self.data = self.data.loc[:, (self.data.notnull().sum(axis=0) > self.min_ratings)]\n",
    "        \n",
    "        #counting the ratings number\n",
    "        for i,j in self.data.iterrows():\n",
    "            self.rating_num += j.count()\n",
    "        \n",
    "\n",
    "    #delete the ratings from the specified date(start_date)\n",
    "    def date_from(self):\n",
    "        day_s, month_s, year_s = self.start_date.split(\".\")\n",
    "        \n",
    "        filtered = self.data[(self.data['date_year'] >= int(year_s))]\n",
    "        filtered = filtered.drop(filtered[(filtered['date_year'] <= int(year_s)) & (filtered['date_month'] <= int(month_s)) & (filtered['date_day'] < int(day_s))].index)\n",
    "        filtered = filtered.drop(filtered[(filtered['date_year'] <= int(year_s)) & (filtered['date_month'] < int(month_s))].index)\n",
    "        return filtered\n",
    "    \n",
    "    #delete the ratings to the specified date(end_date)\n",
    "    def date_to(self):\n",
    "        day_e, month_e, year_e = self.end_date.split(\".\")\n",
    "\n",
    "        filtered = self.data[(self.data['date_year'] <= int(year_e))]\n",
    "        filtered = filtered.drop(filtered[(filtered['date_year'] >= int(year_e)) & (filtered['date_month'] >= int(month_e)) & (filtered['date_day'] >= int(day_e))].index)\n",
    "        filtered = filtered.drop(filtered[(filtered['date_year'] >= int(year_e)) & (filtered['date_month'] > int(month_e))].index)\n",
    "        return filtered\n",
    "       \n",
    "    #return the number of ratings\n",
    "    def nratings(self):\n",
    "        return self.rating_num   \n",
    "    \n",
    "    #function to add a new user to the data\n",
    "    def add_user(self, d, user_id):\n",
    "        if user_id not in self.data.index.tolist():\n",
    "            self.data = self.data.append(pd.Series(name=user_id, dtype = \"float64\"))\n",
    "            for k in d.keys():\n",
    "                self.data.at[user_id,k] = d[k]        "
   ]
  },
  {
   "cell_type": "code",
   "execution_count": 2,
   "metadata": {},
   "outputs": [
    {
     "name": "stdout",
     "output_type": "stream",
     "text": [
      "855598\n",
      "72784\n"
     ]
    }
   ],
   "source": [
    "uim = UserItemData('data/user_ratedmovies.dat')\n",
    "print(uim.nratings())\n",
    "\n",
    "uim = UserItemData('data/user_ratedmovies.dat', start_date = '12.1.2007', end_date='16.2.2008', min_ratings=100)\n",
    "print(uim.nratings())"
   ]
  },
  {
   "cell_type": "markdown",
   "metadata": {},
   "source": [
    "## Reading movies"
   ]
  },
  {
   "cell_type": "code",
   "execution_count": 3,
   "metadata": {},
   "outputs": [],
   "source": [
    "class MovieData:\n",
    "    def __init__(self, path):\n",
    "        #defining the variables and reading the movies data\n",
    "        self.path = path\n",
    "        self.data = self.data = pd.read_csv(self.path, sep='\\t', encoding = \"ISO-8859-1\")\n",
    "        \n",
    "    #returning the name of the movie based on its index\n",
    "    def get_title(self, n):\n",
    "        mov = self.data[(self.data['id'] == n)]    \n",
    "        mov = (mov['title'])\n",
    "        seznam = mov.tolist()\n",
    "        return seznam[0]\n",
    "        "
   ]
  },
  {
   "cell_type": "code",
   "execution_count": 4,
   "metadata": {},
   "outputs": [
    {
     "name": "stdout",
     "output_type": "stream",
     "text": [
      "Toy story\n"
     ]
    }
   ],
   "source": [
    "md = MovieData('data/movies.dat')\n",
    "print(md.get_title(1))"
   ]
  },
  {
   "cell_type": "markdown",
   "metadata": {},
   "source": [
    "## Random predictor"
   ]
  },
  {
   "cell_type": "code",
   "execution_count": 5,
   "metadata": {},
   "outputs": [],
   "source": [
    "import random\n",
    "\n",
    "class RandomPredictor:\n",
    "    def __init__(self, min_value, max_value):\n",
    "        self.min_value = min_value\n",
    "        self.max_value = max_value\n",
    "    \n",
    "    #load the class UserItemData\n",
    "    def fit(self, x):\n",
    "        self.x = x\n",
    "        \n",
    "    def predict(self, user_id):\n",
    "        d = {}      \n",
    "        #iterating over the user's movies and giving them a random rating\n",
    "        for i,j in self.x.data.loc[user_id].iteritems():\n",
    "            if j:\n",
    "                j = random.randint(self.min_value, self.max_value)\n",
    "            \n",
    "            d[i] = j\n",
    "            \n",
    "        return d"
   ]
  },
  {
   "cell_type": "code",
   "execution_count": 6,
   "metadata": {},
   "outputs": [
    {
     "name": "stdout",
     "output_type": "stream",
     "text": [
      "Film: Toy story, ocena: 2\n",
      "Film: Grumpy Old Men, ocena: 5\n",
      "Film: Money Train, ocena: 5\n",
      "Film: The Usual Suspects, ocena: 5\n",
      "Film: City Hall, ocena: 5\n"
     ]
    }
   ],
   "source": [
    "md = MovieData('data/movies.dat')\n",
    "uim = UserItemData('data/user_ratedmovies.dat')\n",
    "rp = RandomPredictor(1, 5)\n",
    "rp.fit(uim)\n",
    "pred = rp.predict(78)\n",
    "items = [1, 3, 20, 50, 100]\n",
    "for item in items:\n",
    "    print(\"Film: {}, ocena: {}\".format(md.get_title(item), pred[item]))"
   ]
  },
  {
   "cell_type": "markdown",
   "metadata": {},
   "source": [
    "## Recommendation"
   ]
  },
  {
   "cell_type": "code",
   "execution_count": 7,
   "metadata": {},
   "outputs": [],
   "source": [
    "from math import sqrt\n",
    "\n",
    "class Recommender:   \n",
    "    #getting the predictor in the constructor\n",
    "    def __init__(self, predikator):\n",
    "        self.predikator = predikator\n",
    "    \n",
    "    #fitting the data in the Recommender and the predictor\n",
    "    def fit(self, x):\n",
    "        self.x = x\n",
    "        self.predikator.fit(self.x)\n",
    "        self.m = self.x.data.mean(axis=1)\n",
    "            \n",
    "    def recommend(self, userID, n=10, rec_seen=True):\n",
    "        #getting a dictionary of predictions for the specified user\n",
    "        d = (self.predikator.predict(userID))\n",
    "        \n",
    "        #here if we don't want to see already watched movies, I delete them from the predictions dictionary\n",
    "        if rec_seen == False:\n",
    "            seznam = [i for i in self.x.data.loc[userID][self.x.data.loc[userID].notnull()].index]\n",
    "            for i in seznam:\n",
    "                if i in d.keys():\n",
    "                    del d[i]\n",
    "        \n",
    "        #sorting the dictionary by the predicted values\n",
    "        d = {k: v for k, v in sorted(d.items(), key=lambda item: item[1], reverse=True)}\n",
    "        \n",
    "        #making a list of the top predictions and returning it\n",
    "        s = []\n",
    "        for i,j in enumerate(d.keys()):\n",
    "            if i == n:\n",
    "                break\n",
    "            s.append((j,d[j]))\n",
    "            \n",
    "        return s\n",
    "    \n",
    "    #this is a method for evaluating the predictor, calculating(rmse,mae,precision,recall and f score)\n",
    "    def evaluate(self, uim_test, n):\n",
    "        train_data = self.x.data\n",
    "        train_data = train_data.fillna(0) #replace the Nan values with zeros for comparing\n",
    "        \n",
    "        #get the interseciton for users between the test and train data\n",
    "        users = list(set(self.x.data.index.tolist()) & set(uim_test.data.index.tolist()))\n",
    "        \n",
    "        #make a recommeder for the train data\n",
    "        rec = Recommender(self.predikator)\n",
    "        rec.fit(uim_test)\n",
    "        \n",
    "        #arrays for the different scores \n",
    "        mse_list = []\n",
    "        mae_list = []\n",
    "        precision_list = []\n",
    "        recall_list = []\n",
    "        \n",
    "        #iterating over the users\n",
    "        for i in users:\n",
    "            views = 0\n",
    "            pred = {}\n",
    "            \n",
    "            #getting the top (n) number of recommended movies\n",
    "            for k,v in rec.recommend(i, n=n, rec_seen=False):\n",
    "                pred[k] = v\n",
    "            \n",
    "            #going over the movies and checking if the user has rated them in the train data,\n",
    "            #and calculating the mse/mae between the (rating and prediction_rating)\n",
    "            #also counting the number of movies watched from our recommendations\n",
    "            for m in pred.keys(): \n",
    "                if m in train_data.columns.tolist():\n",
    "                    if train_data.loc[i][m] != 0:\n",
    "                        mse_list.append((self.x.data.loc[i][m] - pred[m])**2)\n",
    "                        mae_list.append(abs(self.x.data.loc[i][m] - pred[m]))\n",
    "                        \n",
    "                        #if train_data.loc[i][m] > self.m.loc[i]: \n",
    "                        views += 1\n",
    "             \n",
    "            precision_list.append(views / n)\n",
    "            if self.x.data.loc[i].count() > 0:\n",
    "                recall_list.append(views / self.x.data.loc[i].count())\n",
    " \n",
    "        #the first value was 0.0 for both arrays(manually checked for the first itteration, wasn't 0.0) so i delete them\n",
    "        del precision_list[0]\n",
    "        del recall_list[0]\n",
    "       \n",
    "        #getting the final scores, by the formulas from vaje\n",
    "        mse = sqrt(sum(mse_list) / len(mse_list))\n",
    "        mae = sum(mae_list) / len(mae_list)\n",
    "        precision = sum(precision_list) / len(precision_list)\n",
    "        recall = sum(recall_list) / len(recall_list)\n",
    "        f = (2 * precision * recall) / (precision + recall)\n",
    "        \n",
    "        return mse, mae, precision, recall, f"
   ]
  },
  {
   "cell_type": "code",
   "execution_count": 8,
   "metadata": {},
   "outputs": [
    {
     "name": "stdout",
     "output_type": "stream",
     "text": [
      "Film: Grumpy Old Men, ocena: 5\n",
      "Film: Father of the Bride Part II, ocena: 5\n",
      "Film: Copycat, ocena: 5\n",
      "Film: Leaving Las Vegas, ocena: 5\n",
      "Film: Dead Man Walking, ocena: 5\n"
     ]
    }
   ],
   "source": [
    "md = MovieData('data/movies.dat')\n",
    "uim = UserItemData('data/user_ratedmovies.dat')\n",
    "rp = RandomPredictor(1, 5)\n",
    "rec = Recommender(rp)\n",
    "rec.fit(uim)\n",
    "rec_items = rec.recommend(78, n=5, rec_seen=False)\n",
    "for idmovie, val in rec_items:\n",
    "    print(\"Film: {}, ocena: {}\".format(md.get_title(idmovie), val))  "
   ]
  },
  {
   "cell_type": "markdown",
   "metadata": {},
   "source": [
    "## Average Predictor"
   ]
  },
  {
   "cell_type": "code",
   "execution_count": 9,
   "metadata": {},
   "outputs": [],
   "source": [
    "class AveragePredictor:\n",
    "    def __init__(self, b=0):\n",
    "        self.b = b\n",
    "        if b < 0:\n",
    "            self.b = 0\n",
    "        \n",
    "    def fit(self, x):\n",
    "        self.x = x\n",
    "        \n",
    "        self.d = {}\n",
    "        \n",
    "        #the average for all movies\n",
    "        g_avg = self.x.data.sum().sum() / self.x.rating_num \n",
    "        #iterating over the movies\n",
    "        for i in self.x.data:\n",
    "            vs=self.x.data[i].sum() #sum of ratings for a movie(not counting Nan values)\n",
    "            n=self.x.data[i].count() #number of ratings for a movie(not counting Nan values)\n",
    "            \n",
    "            #calculating the average with the formula\n",
    "            #avg = (vs + b * g_avg) / (n + b)\n",
    "            avg = (vs + self.b * g_avg) / (n + self.b)\n",
    "            \n",
    "            self.d[i] = avg\n",
    "    \n",
    "    #returning the dictionary\n",
    "    def predict(self, userID):\n",
    "        return self.d"
   ]
  },
  {
   "cell_type": "code",
   "execution_count": 10,
   "metadata": {},
   "outputs": [
    {
     "name": "stdout",
     "output_type": "stream",
     "text": [
      "Film: Brother Minister: The Assassination of Malcolm X, ocena: 5.0\n",
      "Film: Synthetic Pleasures, ocena: 5.0\n",
      "Film: Gabbeh, ocena: 5.0\n",
      "Film: Storefront Hitchcock, ocena: 5.0\n",
      "Film: Ko to tamo peva, ocena: 5.0\n"
     ]
    }
   ],
   "source": [
    "md = MovieData('data/movies.dat')\n",
    "uim = UserItemData('data/user_ratedmovies.dat')\n",
    "ap = AveragePredictor()\n",
    "rec = Recommender(ap)\n",
    "rec.fit(uim)\n",
    "rec_items = rec.recommend(78, n=5, rec_seen=False)\n",
    "for idmovie, val in rec_items:\n",
    "    print(\"Film: {}, ocena: {}\".format(md.get_title(idmovie), val))  "
   ]
  },
  {
   "cell_type": "code",
   "execution_count": 11,
   "metadata": {},
   "outputs": [
    {
     "name": "stdout",
     "output_type": "stream",
     "text": [
      "Film: The Usual Suspects, ocena: 4.225944245560473\n",
      "Film: The Godfather: Part II, ocena: 4.146907937910189\n",
      "Film: Cidade de Deus, ocena: 4.116538340205236\n",
      "Film: The Dark Knight, ocena: 4.10413904093503\n",
      "Film: 12 Angry Men, ocena: 4.103639627096175\n"
     ]
    }
   ],
   "source": [
    "md = MovieData('data/movies.dat')\n",
    "uim = UserItemData('data/user_ratedmovies.dat')\n",
    "ap = AveragePredictor(b=100)\n",
    "rec = Recommender(ap)\n",
    "rec.fit(uim)\n",
    "rec_items = rec.recommend(78, n=5, rec_seen=False)\n",
    "for idmovie, val in rec_items:\n",
    "    print(\"Film: {}, ocena: {}\".format(md.get_title(idmovie), val))  "
   ]
  },
  {
   "cell_type": "markdown",
   "metadata": {},
   "source": [
    "## Recommend the most watched movies"
   ]
  },
  {
   "cell_type": "code",
   "execution_count": 12,
   "metadata": {},
   "outputs": [],
   "source": [
    "class ViewsPredictor:\n",
    "    def fit(self, x):\n",
    "        self.x = x\n",
    "    \n",
    "    #just counting the number of reviews and storing them in a dictionary\n",
    "    def predict(self, userID):\n",
    "        d = {}\n",
    "        for i in self.x.data:\n",
    "            d[i] = self.x.data[i].count()\n",
    "        return d\n",
    "    "
   ]
  },
  {
   "cell_type": "code",
   "execution_count": 13,
   "metadata": {},
   "outputs": [
    {
     "name": "stdout",
     "output_type": "stream",
     "text": [
      "Film: The Lord of the Rings: The Fellowship of the Ring, ocena: 1576\n",
      "Film: The Lord of the Rings: The Two Towers, ocena: 1528\n",
      "Film: The Lord of the Rings: The Return of the King, ocena: 1457\n",
      "Film: The Silence of the Lambs, ocena: 1431\n",
      "Film: Shrek, ocena: 1404\n"
     ]
    }
   ],
   "source": [
    "md = MovieData('data/movies.dat')\n",
    "uim = UserItemData('data/user_ratedmovies.dat')\n",
    "vp = ViewsPredictor()\n",
    "rec = Recommender(vp)\n",
    "rec.fit(uim)\n",
    "rec_items = rec.recommend(78, n=5, rec_seen=False)\n",
    "for idmovie, val in rec_items:\n",
    "    print(\"Film: {}, ocena: {}\".format(md.get_title(idmovie), val))  "
   ]
  },
  {
   "cell_type": "markdown",
   "metadata": {},
   "source": [
    "## Recommendation of controversial films"
   ]
  },
  {
   "cell_type": "code",
   "execution_count": 14,
   "metadata": {},
   "outputs": [],
   "source": [
    "class STDPredictor:\n",
    "    def __init__(self, n):\n",
    "        self.n = n\n",
    "        \n",
    "    def fit(self, x):\n",
    "        self.x = x\n",
    "    \n",
    "    #first we get movies which have at least n ratings, than we calculate with the standard deviation value\n",
    "    def predict(self, userID):\n",
    "        d = {}\n",
    "        for i in self.x.data:\n",
    "            if self.x.data[i].count() >= self.n:\n",
    "                d[i] = self.x.data[i].std()\n",
    "                \n",
    "        return d"
   ]
  },
  {
   "cell_type": "code",
   "execution_count": 15,
   "metadata": {},
   "outputs": [
    {
     "name": "stdout",
     "output_type": "stream",
     "text": [
      "Film: Plan 9 from Outer Space, ocena: 1.3449520951495715\n",
      "Film: The Passion of the Christ, ocena: 1.2814934595257372\n",
      "Film: The Texas Chainsaw Massacre, ocena: 1.2353493219088192\n",
      "Film: Jackass Number Two, ocena: 1.2189769976366682\n",
      "Film: White Chicks, ocena: 1.189958142429732\n"
     ]
    }
   ],
   "source": [
    "md = MovieData('data/movies.dat')\n",
    "uim = UserItemData('data/user_ratedmovies.dat')\n",
    "rp = STDPredictor(100)\n",
    "rec = Recommender(rp)\n",
    "rec.fit(uim)\n",
    "rec_items = rec.recommend(78, n=5, rec_seen=False)\n",
    "for idmovie, val in rec_items:\n",
    "    print(\"Film: {}, ocena: {}\".format(md.get_title(idmovie), val))"
   ]
  },
  {
   "cell_type": "markdown",
   "metadata": {},
   "source": [
    "## Prediction of estimates with similarity between products"
   ]
  },
  {
   "cell_type": "code",
   "execution_count": 16,
   "metadata": {},
   "outputs": [],
   "source": [
    "from math import sqrt\n",
    "import itertools\n",
    "\n",
    "class ItemBasedPredictor:\n",
    "    def __init__(self, min_values = 0, threshold = 0):\n",
    "        #setting the variables\n",
    "        self.min_values = min_values\n",
    "        self.threshold = threshold\n",
    "        \n",
    "    def fit(self, x):\n",
    "        #fitting the data\n",
    "        self.x = x\n",
    "        \n",
    "        #get all movies and make all possible permutations of them\n",
    "        self.all_movies = self.x.data.columns.tolist()\n",
    "        permutations = list(itertools.permutations(self.all_movies, 2))\n",
    "        self.sim = {}\n",
    "        \n",
    "        #iterate trough the permutations and calculate the similarity between them\n",
    "        #we get similarities between each of the movies\n",
    "        for i,j in permutations:\n",
    "            if (j,i) in self.sim.keys():\n",
    "                pass\n",
    "            else:\n",
    "                self.sim[(i,j)] = self.similarity(i,j)    \n",
    "        \n",
    "    def predict(self, userID):\n",
    "        d = dict()\n",
    "        #get the movies which the user has not rated and predict the rating based on the adjusted cosine similarities\n",
    "        movies = self.x.data.loc[userID][self.x.data.loc[userID].isnull()].index.tolist()\n",
    "        \n",
    "        #iterate over the movies array and calculate the predicted rating\n",
    "        for i in movies:\n",
    "            gore = 0\n",
    "            dolu = 0\n",
    "            for (j,_) in self.x.data.iteritems():\n",
    "                if i != j and j not in movies:\n",
    "                    avg = self.x.data.loc[userID][j]\n",
    "                    x = tuple(sorted([i,j]))\n",
    "                    gore += self.sim[x] * avg\n",
    "                    dolu += self.sim[x]\n",
    "                  \n",
    "            if i not in d.keys() and dolu > 0:\n",
    "                d[i] = gore / dolu\n",
    "        #we get a dictionary with predicted ratings for the movies\n",
    "        return d\n",
    "    \n",
    "    def similarity(self, p1, p2):\n",
    "        #matrix of the intersection of p1 and p2 where both movies are rated\n",
    "        matrix = self.x.data[(self.x.data[p1].notnull()) & (self.x.data[p2].notnull())]  \n",
    "        \n",
    "        #making arrays of the values in the matrix for calculating the similarity\n",
    "        p1_array = np.array(matrix[p1])\n",
    "        p2_array = np.array(matrix[p2])\n",
    "        mean_array = np.array(matrix.mean(axis=1))\n",
    "        \n",
    "        #calculating the adjusted cosine similarity with vectorized operations on the arrays\n",
    "        gore = sum((p1_array - mean_array)*(p2_array - mean_array))\n",
    "        prv_koren = sum((p1_array - mean_array)**2)\n",
    "        vtor_koren = sum((p2_array - mean_array)**2)\n",
    "        \n",
    "        #number of users that rated the movies\n",
    "        num_users = len(matrix.index)\n",
    "        \n",
    "        #similarity by the adjusted cosine similarity formula\n",
    "        sim = gore / (sqrt(prv_koren) * sqrt(vtor_koren))\n",
    "        \n",
    "        #if the sim is beneath the threshold or number of users is lower than min_values return 0.0 similarity\n",
    "        if sim < self.threshold or num_users < self.min_values:\n",
    "            return 0.0\n",
    "        \n",
    "        return sim\n",
    "\n",
    "    def sim_movies(self, n):\n",
    "        #sort the dictionary of similarities and return (n) most similar items \n",
    "        d = {k: v for k, v in sorted(self.sim.items(), key=lambda item: item[1], reverse=True)}\n",
    "        s = []\n",
    "        for i,j in enumerate(d.keys()):\n",
    "            if i == n:\n",
    "                break\n",
    "            s.append((j,d[j]))\n",
    "            \n",
    "        return s\n",
    "    \n",
    "    def similarItems(self, item, n):\n",
    "        d = {}\n",
    "        #go through all the movies and make a tuple of movie(item) with all the rest of them\n",
    "        for m in self.all_movies:\n",
    "            if m != item:\n",
    "                k = tuple(sorted([item,m]))\n",
    "                d[m] = self.sim[k] #save the tuple of (item, other_movie) and the similarity between them\n",
    "                \n",
    "        #sort the dictionary and return (n) movies with the greatest similarity\n",
    "        d = {k: v for k, v in sorted(d.items(), key=lambda item: item[1], reverse=True)}\n",
    "        \n",
    "        s = []\n",
    "        for i, k in enumerate(d.keys()):\n",
    "            if i == n:\n",
    "                break\n",
    "            s.append((k,d[k]))\n",
    "            \n",
    "        return s "
   ]
  },
  {
   "cell_type": "code",
   "execution_count": 17,
   "metadata": {},
   "outputs": [
    {
     "name": "stdout",
     "output_type": "stream",
     "text": [
      "Podobnost med filmoma 'Men in black'(1580) in 'Ghostbusters'(2716):  0.2339552317675661\n",
      "Podobnost med filmoma 'Men in black'(1580) in 'Schindler's List'(527):  0.0\n",
      "Podobnost med filmoma 'Men in black'(1580) in 'Independence day'(780):  0.42466125844687547\n"
     ]
    }
   ],
   "source": [
    "md = MovieData('data/movies.dat')\n",
    "uim = UserItemData('data/user_ratedmovies.dat', min_ratings=1000)\n",
    "rp = ItemBasedPredictor()\n",
    "rec = Recommender(rp)\n",
    "rec.fit(uim)\n",
    "#print(uim.movies)\n",
    "print(\"Podobnost med filmoma 'Men in black'(1580) in 'Ghostbusters'(2716): \", rp.similarity(1580, 2716))\n",
    "print(\"Podobnost med filmoma 'Men in black'(1580) in 'Schindler's List'(527): \", rp.similarity(1580, 527))\n",
    "print(\"Podobnost med filmoma 'Men in black'(1580) in 'Independence day'(780): \", rp.similarity(1580, 780))"
   ]
  },
  {
   "cell_type": "code",
   "execution_count": 18,
   "metadata": {},
   "outputs": [
    {
     "name": "stdout",
     "output_type": "stream",
     "text": [
      "Predictions for 78: \n",
      "Film: Shichinin no samurai, ocena: 4.35573479031016\n",
      "Film: The Usual Suspects, ocena: 4.3546817280678365\n",
      "Film: The Silence of the Lambs, ocena: 4.335305303472517\n",
      "Film: Sin City, ocena: 4.278687166899101\n",
      "Film: Monsters, Inc., ocena: 4.2175811369435205\n",
      "Film: The Incredibles, ocena: 4.2070985832817485\n",
      "Film: The Lord of the Rings: The Fellowship of the Ring, ocena: 4.152792107348347\n",
      "Film: Batman Begins, ocena: 4.146413806700199\n",
      "Film: Die Hard, ocena: 4.125915602232819\n",
      "Film: Rain Man, ocena: 4.07153524295855\n",
      "Film: The Lord of the Rings: The Return of the King, ocena: 4.020237449257013\n",
      "Film: A Beautiful Mind, ocena: 4.0151424900648385\n",
      "Film: Good Will Hunting, ocena: 4.0092808069228205\n",
      "Film: The Lord of the Rings: The Two Towers, ocena: 3.9414763050955934\n",
      "Film: Indiana Jones and the Last Crusade, ocena: 3.7969764963789236\n"
     ]
    }
   ],
   "source": [
    "print(\"Predictions for 78: \")\n",
    "rec_items = rec.recommend(78, n=15, rec_seen=False)\n",
    "for idmovie, val in rec_items:\n",
    "    print(\"Film: {}, ocena: {}\".format(md.get_title(idmovie), val))"
   ]
  },
  {
   "cell_type": "markdown",
   "metadata": {},
   "source": [
    "## Most Similar Movies"
   ]
  },
  {
   "cell_type": "code",
   "execution_count": 19,
   "metadata": {},
   "outputs": [
    {
     "name": "stdout",
     "output_type": "stream",
     "text": [
      "Film1: The Lord of the Rings: The Two Towers, Film2: The Lord of the Rings: The Return of the King, podobnost: 0.8439842148481411\n",
      "Film1: The Lord of the Rings: The Fellowship of the Ring, Film2: The Lord of the Rings: The Two Towers, podobnost: 0.8231885401761887\n",
      "Film1: The Lord of the Rings: The Fellowship of the Ring, Film2: The Lord of the Rings: The Return of the King, podobnost: 0.8079374897442487\n",
      "Film1: Kill Bill: Vol. 2, Film2: Kill Bill: Vol. 2, podobnost: 0.7372340224381033\n",
      "Film1: Star Wars, Film2: Star Wars: Episode V - The Empire Strikes Back, podobnost: 0.7021321132220316\n",
      "Film1: Ace Ventura: Pet Detective, Film2: The Mask, podobnost: 0.6616471778494041\n",
      "Film1: Star Wars: Episode V - The Empire Strikes Back, Film2: Star Wars: Episode VI - Return of the Jedi, podobnost: 0.5992253753778951\n",
      "Film1: Independence Day, Film2: Star Wars: Episode I - The Phantom Menace, podobnost: 0.5610426219249982\n",
      "Film1: Ace Ventura: Pet Detective, Film2: Austin Powers: The Spy Who Shagged Me, podobnost: 0.5546511205201548\n",
      "Film1: Star Wars, Film2: Star Wars: Episode VI - Return of the Jedi, podobnost: 0.5537849318137374\n",
      "Film1: Speed, Film2: Pretty Woman, podobnost: 0.5452283115904595\n",
      "Film1: Speed, Film2: Independence Day, podobnost: 0.5431378689126926\n",
      "Film1: The Mask, Film2: Mrs. Doubtfire, podobnost: 0.5398021259282233\n",
      "Film1: Star Wars: Episode I - The Phantom Menace, Film2: The Matrix Reloaded, podobnost: 0.5395530958560104\n",
      "Film1: Pulp Fiction, Film2: Reservoir Dogs, podobnost: 0.5325845218198636\n",
      "Film1: The Mask, Film2: Speed, podobnost: 0.5278817778537812\n",
      "Film1: Mrs. Doubtfire, Film2: Pretty Woman, podobnost: 0.5270868855316115\n",
      "Film1: The Usual Suspects, Film2: The Shawshank Redemption, podobnost: 0.5177245339550582\n",
      "Film1: Pretty Woman, Film2: Independence Day, podobnost: 0.5159691824959433\n",
      "Film1: Mrs. Doubtfire, Film2: Independence Day, podobnost: 0.5058863618664237\n"
     ]
    }
   ],
   "source": [
    "most_sim_movies = rec.predikator.sim_movies(20)\n",
    "for (i, j), val in most_sim_movies:\n",
    "    print(\"Film1: {}, Film2: {}, podobnost: {}\".format(md.get_title(i), md.get_title(j), val))"
   ]
  },
  {
   "cell_type": "markdown",
   "metadata": {},
   "source": [
    "-----"
   ]
  },
  {
   "cell_type": "markdown",
   "metadata": {},
   "source": [
    "## Recommendation based on currently viewed content"
   ]
  },
  {
   "cell_type": "code",
   "execution_count": 20,
   "metadata": {},
   "outputs": [
    {
     "name": "stdout",
     "output_type": "stream",
     "text": [
      "Filmi podobni \"The Lord of the Rings: The Fellowship of the Ring\": \n",
      "Film: The Lord of the Rings: The Two Towers, ocena: 0.8231885401761887\n",
      "Film: The Lord of the Rings: The Return of the King, ocena: 0.8079374897442487\n",
      "Film: Star Wars: Episode V - The Empire Strikes Back, ocena: 0.23961943073496453\n",
      "Film: Star Wars, ocena: 0.21965586527074088\n",
      "Film: The Matrix, ocena: 0.2151555270688026\n",
      "Film: Raiders of the Lost Ark, ocena: 0.19944276706345052\n",
      "Film: The Usual Suspects, ocena: 0.18321188451910767\n",
      "Film: Blade Runner, ocena: 0.16399681315410303\n",
      "Film: Schindler's List, ocena: 0.16105905138148724\n",
      "Film: Monty Python and the Holy Grail, ocena: 0.15780453798519137\n"
     ]
    }
   ],
   "source": [
    "rec_items = rp.similarItems(4993, 10)\n",
    "print('Filmi podobni \"The Lord of the Rings: The Fellowship of the Ring\": ')\n",
    "for idmovie, val in rec_items:\n",
    "    print(\"Film: {}, ocena: {}\".format(md.get_title(idmovie), val))"
   ]
  },
  {
   "cell_type": "markdown",
   "metadata": {},
   "source": [
    "## Recommendation for myself"
   ]
  },
  {
   "cell_type": "code",
   "execution_count": 21,
   "metadata": {},
   "outputs": [
    {
     "name": "stdout",
     "output_type": "stream",
     "text": [
      "Film: Pulp Fiction, ocena: 5.0\n",
      "Film: The Shawshank Redemption, ocena: 4.5\n",
      "Film: Ace Ventura: Pet Detective, ocena: 2.5\n",
      "Film: The Lion King, ocena: 4.5\n",
      "Film: The Silence of the Lambs, ocena: 4.5\n",
      "Film: The Godfather, ocena: 5.0\n",
      "Film: Back to the Future, ocena: 3.0\n",
      "Film: Titanic, ocena: 3.0\n",
      "Film: The Matrix, ocena: 4.5\n",
      "Film: Fight Club, ocena: 5.0\n",
      "Film: Gladiator, ocena: 4.0\n",
      "Film: Shrek, ocena: 2.0\n",
      "Film: Monsters, Inc., ocena: 3.0\n",
      "Film: Ocean's Eleven, ocena: 3.5\n",
      "Film: The Matrix Reloaded, ocena: 4.0\n",
      "Film: Finding Nemo, ocena: 3.5\n",
      "Film: Pirates of the Caribbean: The Curse of the Black Pearl, ocena: 3.5\n",
      "Film: The Incredibles, ocena: 3.0\n",
      "Film: The Bourne Identity, ocena: 3.0\n",
      "Film: The Mask, ocena: 2.0\n",
      "Film: Die Hard, ocena: 2.0\n",
      "Film: E.T.: The Extra-Terrestrial, ocena: 2.0\n",
      "Film: Men in Black, ocena: 1.5\n",
      "Film: Spider-Man, ocena: 2.5\n"
     ]
    }
   ],
   "source": [
    "#my ratings for some hand picked movies\n",
    "my_ratings = {296:5.0, 318:4.5, 344:2.5, 364:4.5, 593:4.5, 858:5.0, 1270:3.0, 1721:3.0, 2571:4.5, 2959:5.0, 3578:4.0, 4306:2.0, 4886:3.0,\n",
    "              4963:3.5, 6365:4.0, 6377:3.5, 6539:3.5, 8961:3.0, 5418:3.0, 367:2.0, 1036:2.0, 1097:2.0, 1580:1.5, 5349:2.5}\n",
    "for k in my_ratings.keys():\n",
    "    print(\"Film: {}, ocena: {}\".format(md.get_title(k), my_ratings[k]))"
   ]
  },
  {
   "cell_type": "code",
   "execution_count": 22,
   "metadata": {},
   "outputs": [],
   "source": [
    "#reading the data and adding my ratings as a new user\n",
    "md = MovieData('data/movies.dat')\n",
    "uim = UserItemData('data/user_ratedmovies.dat', min_ratings=950)\n",
    "uim.add_user(my_ratings, 1)\n",
    "\n",
    "#using the ItemBasedPredictor for recommendation\n",
    "rp = ItemBasedPredictor()\n",
    "rec = Recommender(rp)\n",
    "rec.fit(uim)"
   ]
  },
  {
   "cell_type": "code",
   "execution_count": 23,
   "metadata": {},
   "outputs": [
    {
     "name": "stdout",
     "output_type": "stream",
     "text": [
      "Predictions for myself: \n",
      "Film: Kill Bill: Vol. 2, ocena: 4.8823202264975665\n",
      "Film: A Clockwork Orange, ocena: 4.850639605605614\n",
      "Film: Kill Bill: Vol. 2, ocena: 4.850531530195364\n",
      "Film: Lost in Translation, ocena: 4.83588560884867\n",
      "Film: Being John Malkovich, ocena: 4.830060623160483\n",
      "Film: Donnie Darko, ocena: 4.780433050578312\n",
      "Film: Reservoir Dogs, ocena: 4.770285691044744\n",
      "Film: Fargo, ocena: 4.765923017624664\n",
      "Film: Sin City, ocena: 4.761626819589236\n",
      "Film: One Flew Over the Cuckoo's Nest, ocena: 4.724342130206327\n"
     ]
    }
   ],
   "source": [
    "#printing the top 10 recommended movies for myself\n",
    "print(\"Predictions for myself: \")\n",
    "rec_items = rec.recommend(1, n=10, rec_seen=False)\n",
    "for idmovie, val in rec_items:\n",
    "    print(\"Film: {}, ocena: {}\".format(md.get_title(idmovie), val))"
   ]
  },
  {
   "cell_type": "markdown",
   "metadata": {},
   "source": [
    "## Slope one prediction"
   ]
  },
  {
   "cell_type": "code",
   "execution_count": 24,
   "metadata": {},
   "outputs": [],
   "source": [
    "class SlopeOnePredictor:    \n",
    "    def fit(self, x):\n",
    "        self.x = x\n",
    "        \n",
    "        #again making all the permutations between the movies\n",
    "        self.all_movies = self.x.data.columns.tolist()\n",
    "        permutations = list(itertools.permutations(self.all_movies, 2))\n",
    "        self.slopeOne = {}\n",
    "        \n",
    "        #calculating average differences between all the movies and storing them in a dictionary\n",
    "        for i,j in permutations:\n",
    "            self.slopeOne[(i,j)] = self.slope_one(i,j)    \n",
    "    \n",
    "    def predict(self, userID):\n",
    "        d = dict()\n",
    "        #get the movies that are not rated and predict their ratings\n",
    "        movies = self.x.data.loc[userID][self.x.data.loc[userID].isnull()].index.tolist()\n",
    "        \n",
    "        #for each movie make a prediction\n",
    "        for i in movies:\n",
    "            gore = []\n",
    "            dolu = []\n",
    "            for (j,_) in self.x.data.iteritems():\n",
    "                if i != j and j not in movies:\n",
    "                    x = tuple([i,j])\n",
    "                    gore.append( (self.x.data.loc[userID][j] + self.slopeOne[x][0]) * self.slopeOne[x][1])\n",
    "                    dolu.append(self.slopeOne[x][1])\n",
    "            \n",
    "            #store the predicted values in a dictionary and return it\n",
    "            if i not in d.keys() and sum(dolu) > 0:\n",
    "                d[i] = sum(gore) / sum(dolu)\n",
    "            \n",
    "        return d\n",
    "    \n",
    "    def slope_one(self, p1, p2):\n",
    "        #get the movies that are rated and calculate average difference between them\n",
    "        matrix = self.x.data[(self.x.data[p1].notnull()) & (self.x.data[p2].notnull())]  \n",
    "        \n",
    "        #arrays of the ratings to use vectorized operations and not iteratting over them\n",
    "        p1_array = np.array(matrix[p1])\n",
    "        p2_array = np.array(matrix[p2])\n",
    "        n = len(p1_array) #number of ratings\n",
    "        \n",
    "        #calculationg average difference with the formula from vaje\n",
    "        dev = (sum(p1_array - p2_array)) / n\n",
    "        \n",
    "        #returning the average difference value and number of ratings\n",
    "        return [dev, n]"
   ]
  },
  {
   "cell_type": "code",
   "execution_count": 25,
   "metadata": {},
   "outputs": [
    {
     "name": "stdout",
     "output_type": "stream",
     "text": [
      "Predictions for 78: \n",
      "Film: The Usual Suspects, ocena: 4.325079182263173\n",
      "Film: The Lord of the Rings: The Fellowship of the Ring, ocena: 4.155293229840448\n",
      "Film: The Lord of the Rings: The Return of the King, ocena: 4.153135076202185\n",
      "Film: The Silence of the Lambs, ocena: 4.127978169643881\n",
      "Film: Shichinin no samurai, ocena: 4.119790444913598\n",
      "Film: The Lord of the Rings: The Two Towers, ocena: 4.083325894849594\n",
      "Film: Indiana Jones and the Last Crusade, ocena: 3.9670398355464194\n",
      "Film: The Incredibles, ocena: 3.9664496674557546\n",
      "Film: Good Will Hunting, ocena: 3.963362387354114\n",
      "Film: Sin City, ocena: 3.942619137615212\n",
      "Film: Batman Begins, ocena: 3.9375326640077017\n",
      "Film: A Beautiful Mind, ocena: 3.9140940935239508\n",
      "Film: Rain Man, ocena: 3.9107819079644943\n",
      "Film: Monsters, Inc., ocena: 3.8819375978658006\n",
      "Film: Finding Nemo, ocena: 3.8807711131654794\n"
     ]
    }
   ],
   "source": [
    "md = MovieData('data/movies.dat')\n",
    "uim = UserItemData('data/user_ratedmovies.dat', min_ratings=1000)\n",
    "rp = SlopeOnePredictor()\n",
    "rec = Recommender(rp)\n",
    "rec.fit(uim)\n",
    "\n",
    "print(\"Predictions for 78: \")\n",
    "rec_items = rec.recommend(78, n=15, rec_seen=False)\n",
    "for idmovie, val in rec_items:\n",
    "    print(\"Film: {}, ocena: {}\".format(md.get_title(idmovie), val))"
   ]
  },
  {
   "cell_type": "markdown",
   "metadata": {},
   "source": [
    "-----"
   ]
  },
  {
   "cell_type": "markdown",
   "metadata": {},
   "source": [
    "## Evaluation method"
   ]
  },
  {
   "cell_type": "code",
   "execution_count": 26,
   "metadata": {},
   "outputs": [
    {
     "name": "stdout",
     "output_type": "stream",
     "text": [
      "Scores for RandomPredictor:\n",
      "1.248330677608933 0.9263368777931885 0.3849168646080761 0.3203418918789692 0.34967306819092886\n"
     ]
    }
   ],
   "source": [
    "md = MovieData('data/movies.dat')\n",
    "uim = UserItemData('data/user_ratedmovies.dat', min_ratings=1000, end_date='1.1.2008')\n",
    "rp = RandomPredictor(1, 5)\n",
    "rec = Recommender(rp)\n",
    "rec.fit(uim)\n",
    "\n",
    "uim_test = UserItemData('data/user_ratedmovies.dat', min_ratings=200, start_date='2.1.2008')\n",
    "mse, mae, precision, recall, f = rec.evaluate(uim_test, 20)\n",
    "print(\"Scores for RandomPredictor:\")\n",
    "print(mse, mae, precision, recall, f)"
   ]
  },
  {
   "cell_type": "code",
   "execution_count": 27,
   "metadata": {},
   "outputs": [
    {
     "name": "stdout",
     "output_type": "stream",
     "text": [
      "Scores for AveragePredictor:\n",
      "0.8083112995322195 0.6141289398447879 0.02244655581947745 0.017963301381865325 0.01995623222131743\n"
     ]
    }
   ],
   "source": [
    "md = MovieData('data/movies.dat')\n",
    "uim = UserItemData('data/user_ratedmovies.dat', min_ratings=1000, end_date='1.1.2008')\n",
    "rp = AveragePredictor(b=100)\n",
    "rec = Recommender(rp)\n",
    "rec.fit(uim)\n",
    "\n",
    "uim_test = UserItemData('data/user_ratedmovies.dat', min_ratings=200, start_date='2.1.2008')\n",
    "mse, mae, precision, recall, f = rec.evaluate(uim_test, 20)\n",
    "print(\"Scores for AveragePredictor:\")\n",
    "print(mse, mae, precision, recall, f)"
   ]
  },
  {
   "cell_type": "code",
   "execution_count": 28,
   "metadata": {},
   "outputs": [
    {
     "name": "stdout",
     "output_type": "stream",
     "text": [
      "Scores for ItemBasedPredictor:\n",
      "0.9074528048825778 0.6642004553056103 0.37565320665083135 0.31097105270493275 0.34026549901921116\n"
     ]
    }
   ],
   "source": [
    "md = MovieData('data/movies.dat')\n",
    "uim = UserItemData('data/user_ratedmovies.dat', min_ratings=1000, end_date='1.1.2008')\n",
    "rp = ItemBasedPredictor()\n",
    "rec = Recommender(rp)\n",
    "rec.fit(uim)\n",
    "\n",
    "uim_test = UserItemData('data/user_ratedmovies.dat', min_ratings=200, start_date='2.1.2008')\n",
    "mse, mae, precision, recall, f = rec.evaluate(uim_test, 20)\n",
    "print(\"Scores for ItemBasedPredictor:\")\n",
    "print(mse, mae, precision, recall, f)"
   ]
  },
  {
   "cell_type": "code",
   "execution_count": 29,
   "metadata": {},
   "outputs": [
    {
     "name": "stdout",
     "output_type": "stream",
     "text": [
      "Scores for SlopeOnePredictor:\n",
      "0.8365220233178216 0.6293274373721766 0.3940023752969124 0.3298975131976127 0.35911154531248957\n"
     ]
    }
   ],
   "source": [
    "md = MovieData('data/movies.dat')\n",
    "uim = UserItemData('data/user_ratedmovies.dat', min_ratings=1000, end_date='1.1.2008')\n",
    "rp = SlopeOnePredictor()\n",
    "rec = Recommender(rp)\n",
    "rec.fit(uim)\n",
    "\n",
    "uim_test = UserItemData('data/user_ratedmovies.dat', min_ratings=200, start_date='2.1.2008')\n",
    "mse, mae, precision, recall, f = rec.evaluate(uim_test, 20)\n",
    "print(\"Scores for SlopeOnePredictor:\")\n",
    "print(mse, mae, precision, recall, f)"
   ]
  },
  {
   "cell_type": "markdown",
   "metadata": {},
   "source": [
    "- From the scores we can see that the random predictor, just as expected, made the worst predictions for the ratings(based on the MSE and MAE), even though it had good precision, recall and f-score it is the worst predictor(that I wouldn't use). The Average predictor had the best MSE and MAE but it lacked in the precision, recall and f-score, that's because it gives the same recommendations to all the users. The ItemBasedPredictor and SlopeOnePredictor have good values overall but the SlopeOnePredicator is slightly better in all the scores. With the SlopeOnePredictor we get great MAE and MSE scores, also the best precision, recall and f-score values from our predictors."
   ]
  }
 ],
 "metadata": {
  "kernelspec": {
   "display_name": "Python 3",
   "language": "python",
   "name": "python3"
  },
  "language_info": {
   "codemirror_mode": {
    "name": "ipython",
    "version": 3
   },
   "file_extension": ".py",
   "mimetype": "text/x-python",
   "name": "python",
   "nbconvert_exporter": "python",
   "pygments_lexer": "ipython3",
   "version": "3.7.6"
  }
 },
 "nbformat": 4,
 "nbformat_minor": 4
}
